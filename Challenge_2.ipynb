{
  "cells": [
    {
      "cell_type": "markdown",
      "metadata": {
        "id": "jCToTkUvl1T2"
      },
      "source": [
        "# **Seconda challenge del corso di algoritmi per ing. mate**\n",
        "# Leonardo De Novellis && Francesco Derme"
      ]
    },
    {
      "cell_type": "markdown",
      "metadata": {
        "id": "XbIaJ73xbqUH"
      },
      "source": [
        "# **Setup**"
      ]
    },
    {
      "cell_type": "markdown",
      "metadata": {
        "id": "rqlU-7n9lIAW"
      },
      "source": [
        "**Download the code**"
      ]
    },
    {
      "cell_type": "code",
      "execution_count": null,
      "metadata": {
        "colab": {
          "base_uri": "https://localhost:8080/"
        },
        "id": "xnc66K_Ubmi6",
        "outputId": "496f80ff-aeca-4243-d3ce-8f6ea45eb3bd"
      },
      "outputs": [],
      "source": [
        "!git clone https://github.com/google/benchmark.git\n",
        "!git clone https://github.com/google/googletest.git benchmark/googletest"
      ]
    },
    {
      "cell_type": "markdown",
      "metadata": {
        "id": "Z_Y0pLnSdChO"
      },
      "source": [
        "**Organize the code and install**"
      ]
    },
    {
      "cell_type": "code",
      "execution_count": null,
      "metadata": {
        "colab": {
          "base_uri": "https://localhost:8080/"
        },
        "id": "0ihwVuUjdFiD",
        "outputId": "e134588a-a678-4c10-8112-0612cd7eec13"
      },
      "outputs": [],
      "source": [
        "!rm -rf benchmark/build\n",
        "!cmake -E make_directory \"benchmark/build\"\n",
        "!cmake -E chdir \"benchmark/build\" cmake -DCMAKE_BUILD_TYPE=Release ..\n",
        "!cmake --build \"benchmark/build\" --config Release --target install"
      ]
    },
    {
      "cell_type": "markdown",
      "metadata": {
        "id": "6Sg4c3h1gtoy"
      },
      "source": [
        "# **Challenge 2**"
      ]
    },
    {
      "cell_type": "code",
      "execution_count": null,
      "metadata": {
        "colab": {
          "base_uri": "https://localhost:8080/"
        },
        "id": "B4eBAv86gv6z",
        "outputId": "f6e13782-3f0a-4e4c-b2d8-5ed806e2b2b8"
      },
      "outputs": [],
      "source": [
        "%%writefile challenge.cpp\n",
        "#include <cstdio>\n",
        "#include <vector>\n",
        "#include <ctime>\n",
        "#include <benchmark/benchmark.h>\n",
        "\n",
        "#define fast std::ios_base::sync_with_stdio(0); std::cin.tie(0); std::cout.tie(0);\n",
        "\n",
        "// IMPORTANTE: il codice seguente assume che fosse possibile fare uso della funzione std::swap\n",
        "// Se questo non fosse consentito, ci teniamo a far sapere che avremmo saputo implementare uno XOR swap che è\n",
        "// la migliore opzione in questo caso dopo quella fornita dalla libreria standard.\n",
        "\n",
        "// Il primo approccio che abbiamo tentato per trovare la mediana dei gruppi da 5 elementi è stato\n",
        "// un bubblesort parziale del vettore in ingresso che effettuava al massimo 9 swap nel caso pessimo.\n",
        "// Per ottenere le massime prestazioni teoirche possibili (mediana di 5 elementi in 6 comparazioni, mediana di 4 elementi\n",
        "// in 5 comparazioni e così via) è stato necessario abbandondare il bubblesort e scrivere funzioni ad hoc per ogni caso.\n",
        "inline int findMedianOfFive(std::vector<int>& vec, size_t left)\n",
        "{\n",
        "\t// Inizia il mergesort dei primi 4 elementi ordinando le prime 2 coppie\n",
        "\tif(vec[left] > vec[left + 1]) std::swap(vec[left], vec[left + 1]);\n",
        "\tif(vec[left + 2] > vec[left + 3]) std::swap(vec[left + 2], vec[left + 3]);\n",
        "\n",
        "\t// Confronta i due elementi più piccoli delle prime 2 coppie ed elimina il più piccolo (scambiando anche il partner)\n",
        "\tif(vec[left + 2] < vec[left])\n",
        "\t{\n",
        "\t\tstd::swap(vec[left + 1], vec[left + 3]);\n",
        "\t\tstd::swap(vec[left], vec[left + 2]);\n",
        "\t}\n",
        "\n",
        "\t// Confronta il quinto numero con quello rimasto solo\n",
        "\tif(vec[left + 4] > vec[left + 1]) std::swap(vec[left + 4], vec[left + 1]);\n",
        "\n",
        "\t// Confronta i due elementi più piccoli delle nuove 2 coppie ed elimina il più piccolo  (scambiando anche il partner)\n",
        "\tif(vec[left + 4] < vec[left + 2])\n",
        "\t{\n",
        "\t\tstd::swap(vec[left + 1], vec[left + 3]);\n",
        "\t\tstd::swap(vec[left + 4], vec[left + 2]);\n",
        "\t}\n",
        "\n",
        "\t// Il risultato è l'elemento più piccolo tra quello senza coppia e il più piccolo della coppia rimanente\n",
        "\treturn std::min(vec[left + 4], vec[left + 3]);\n",
        "}\n",
        "\n",
        "inline int findMedianOfFour(std::vector<int>& vec, size_t left)\n",
        "{\n",
        "\tif(vec[left] > vec[left + 1]) std::swap(vec[left], vec[left + 1]);\n",
        "\tif(vec[left + 2] > vec[left + 3]) std::swap(vec[left + 2], vec[left + 3]);\n",
        "\n",
        "\tif(vec[left + 2] < vec[left])\n",
        "\t{\n",
        "\t\tstd::swap(vec[left + 1], vec[left + 3]);\n",
        "\t\tstd::swap(vec[left], vec[left + 2]);\n",
        "\t}\n",
        "\n",
        "\tif(vec[left + 3] < vec[left + 1]) std::swap(vec[left + 3], vec[left + 1]);\n",
        "\n",
        "\treturn std::min(vec[left + 1], vec[left + 2]);\n",
        "}\n",
        "\n",
        "inline int findMedianOfThree(std::vector<int>& vec, size_t left)\n",
        "{\n",
        "\tif(vec[left] > vec[left + 1]) std::swap(vec[left], vec[left + 1]);\n",
        "\tif(vec[left] > vec[left + 2]) std::swap(vec[left], vec[left + 2]);\n",
        "\n",
        "\treturn std::min(vec[left + 1], vec[left + 2]);\n",
        "}\n",
        "\n",
        "inline int findMedianOfTwo(std::vector<int>& vec, size_t left)\n",
        "{\n",
        "\treturn std::min(vec[left], vec[left + 1]);\n",
        "}\n",
        "\n",
        "int (*findMedian[3])(std::vector<int>& vec, size_t left) = {findMedianOfTwo, findMedianOfThree, findMedianOfFour};\n",
        "\n",
        "// solve trova ricorsivamente la statistica d'ordine richiesta.\n",
        "inline int solve(std::vector<int>& vec, size_t left, size_t right, size_t order)\n",
        "{\n",
        "\trestart:\n",
        "\n",
        "\t// Il caso base è quello in cui è presente un solo elemento, non occorre fare nulla.\n",
        "\tif(left == right - 1) return vec[left];\n",
        "\n",
        "\t// Per trovare un pivot sufficientemente buono in poco tempo si suddivide il vettore\n",
        "\t// in ingresso in gruppi da 5, di ognuno di questi si trova la mediana, il pivot è\n",
        "\t// la mediana tra le mediane dei gruppi, calcolato ricorsivamente.\n",
        "\tsize_t groups = (right - left) / 5;\n",
        "\tstd::vector<int> median(groups);\n",
        "\tint pivot;\n",
        "\n",
        "\tif(groups)\n",
        "\t{\n",
        "\t\tfor(int i = 0; i < groups; i++)\n",
        "\t\t{\n",
        "\t\t\tmedian[i] = findMedianOfFive(vec, left + i * 5);\n",
        "\t\t}\n",
        "\n",
        "\t\tpivot = solve(median, 0, groups, groups/2);\n",
        "\t}\n",
        "\n",
        "\t// Se non ci sono abbastanza elementi per formare i gruppi, il pivot è semplicemente la mediana.\n",
        "\telse{\n",
        "\t\tpivot = (*findMedian[right - left - 2])(vec, left);\n",
        "\t}\n",
        "\n",
        "\t// Si ordina il vettore attorno al pivot in modo da determinare l'ordine (rank) del pivot stesso.\n",
        "\tsize_t pivotpos = 0;\n",
        "\tfor(size_t i=left; i<right; i++){\n",
        "\t\tif (vec[i] == pivot){\n",
        "\t\t\tpivotpos = i;\n",
        "\t\t\tbreak;\n",
        "\t\t}\n",
        "\t}\n",
        "\n",
        "\tstd::swap(vec[left], vec[pivotpos]);\n",
        "\n",
        "\tsize_t i = left;\n",
        "\tfor(size_t j = left + 1; j < right; j++)\n",
        "\t{\n",
        "\t\tif(vec[j] <= pivot)\n",
        "\t\t{\n",
        "\t\t\ti++;\n",
        "\t\t\tstd::swap(vec[i], vec[j]);\n",
        "\t\t}\n",
        "\t}\n",
        "\n",
        "\tstd::swap(vec[left], vec[i]);\n",
        "\tsize_t rank = i - left + 1;\n",
        "\n",
        "\t// Se il rank del pivot è maggiore di quello richiesto, occore cercare tra gli elementi più\n",
        "\t// piccoli del pivot. Se al contrario è maggiore, occorre cercare tra gli elementi più grandi\n",
        "\t// del pivot, stando attenti a cambiare l'ordine della statistica ricercata.\n",
        "\tif(rank == order) return pivot;\n",
        "\telse if(rank > order)\n",
        "\t{\n",
        "\t\tright = i;\n",
        "\t\tgoto restart;\n",
        "\t}\n",
        "\telse\n",
        "\t{\n",
        "\t\tleft = i + 1;\n",
        "\t\torder = order - rank;\n",
        "\t\tgoto restart;\n",
        "\t}\n",
        "}\n",
        "\n",
        "// findOrderStatistic è l'interfaccia della funzione solve, ne rende più comoda\n",
        "// la chiamata e formatta adeguatamente i risultati.\n",
        "// void findOrderStatistic(std::vector<int>& vec, size_t order)\n",
        "// {\n",
        "// \tsize_t dim = vec.size();\n",
        "// \tif(order < 1 || order > dim) printf(\"Requested statistic (%zuth largest element) is out of bounds\\n\", order);\n",
        "// \telse if(order % 10 == 1 && order != 11) printf(\"The %zust largest element is %d\\n\", order, solve(vec, 0, dim, order));\n",
        "// \telse if(order % 10 == 2) printf(\"The %zund largest element is %d\\n\", order, solve(vec, 0, dim, order));\n",
        "// \telse if(order % 10 == 3) printf(\"The %zurd largest element is %d\\n\", order, solve(vec, 0, dim, order));\n",
        "// \telse printf(\"The %zuth largest element is %d\\n\", order, solve(vec, 0, dim, order));\n",
        "\n",
        "// \treturn;\n",
        "// }\n",
        "\n",
        "// int main()\n",
        "// {\n",
        "// \tfast\n",
        "// \tstd::vector<int> input1 = {2, 3, 4, 2, 6, 4, 3, 2, 56, 7, 1, 1};\n",
        "// \tstd::vector<int> input2 = {1, 1, 1, 10, 10, 1, 1, 1, 10, 10, 1, 1, 1, 10, 10, 100, 100, 100, 100, 100, 100, 100, 100, 100, 100};\n",
        "// \tstd::vector<int> input3 = {11, 10, 9, 8, 7, 6, 5, 4, 3, 2, 1};\n",
        "// \tstd::vector<int> input4 = {1};\n",
        "// \tstd::vector<int> input5 = {13, 6};\n",
        "// \tstd::vector<int> input6 = {13, 2, 5};\n",
        "// \tstd::vector<int> input7 = {21, 10, 15, 7};\n",
        "// \tstd::vector<int> input8 = {1};\n",
        "// \tstd::vector<int> input9 = {};\n",
        "// \tstd::vector<int> input10 = {-1, 2, -2, -2, 110, -87, 50, 60, 60, 60};\n",
        "// \tstd::vector<int> input11 = {11, 1, 1, 10, 10, 1, 1, 1, 10, 10, 1, 1, 1, 10, 10, 100, 100, 100, 100, 100, 100, 100, 100, 100, 1001,\n",
        "// 1, 1, 10, 10, 1, 1, 1, 10, 10, 1, 1, 1, 10, 10, 100, 100, 100, 100, 100, 100, 100, 100, 100, 1001, 1, 1, 10, 10, 1, 1, 1, 10, 10, 1, 1, 1,\n",
        "// 10, 10, 100, 100, 100, 100, 100, 100, 100, 100, 100, 1001, 1, 1, 10, 10, 1, 1, 1, 10, 10, 1, 1, 1, 10, 10, 100, 100, 100, 100, 100, 100,\n",
        "// 100, 100, 100, 1001, 1, 1, 10, 10, 1, 1, 1, 10, 10, 1, 1, 1, 10, 10, 100, 100, 100, 100, 100, 100, 100, 100, 100, 1001, 1, 1, 10, 10, 1,\n",
        "// 1, 1, 10, 10, 1, 1, 1, 10, 10, 100, 100, 100, 100, 100, 100, 100, 100, 100, 1001, 1, 1, 10, 10, 1, 1, 1, 10, 10, 1, 1, 1, 10, 10, 100};\n",
        "// \tstd::vector<std::vector<int>> inputs = {input1, input2, input3, input4, input5, input6, input7};\n",
        "//     for(int order = 1; order<1000; order++){\n",
        "//         findOrderStatistic(input7, order);\n",
        "//     }\n",
        "//  \treturn 0;\n",
        "//  }\n",
        "\n",
        "\n",
        "static void BM_order(benchmark::State& state)\n",
        "{\n",
        "    int size=state.range(0);\n",
        "    std::srand(unsigned(std::time(nullptr)));\n",
        "    std::vector<int> values(size);\n",
        "    std::generate(values.begin(), values.end(), std::rand);\n",
        "    size_t x = rand() % values.size() + 1;\n",
        "    for (auto _ :state)\n",
        "        benchmark::DoNotOptimize(solve(values, 0, values.size(), x));\n",
        "    state.SetComplexityN(state.range(0));\n",
        "}\n",
        "\n",
        "BENCHMARK(BM_order)\n",
        "    ->RangeMultiplier(2)\n",
        "    ->Range(1<<2, 1<<20)\n",
        "    ->Complexity();\n",
        "BENCHMARK_MAIN();"
      ]
    },
    {
      "cell_type": "code",
      "execution_count": null,
      "metadata": {
        "id": "TDkNwJnKg6ud"
      },
      "outputs": [],
      "source": [
        "!g++ challenge.cpp -O2 -std=c++11 -isystem benchmark/include -Lbenchmark/build/src -lbenchmark -lpthread -o challenge2"
      ]
    },
    {
      "cell_type": "code",
      "execution_count": null,
      "metadata": {
        "colab": {
          "base_uri": "https://localhost:8080/"
        },
        "id": "Udm7z0sCg9mW",
        "outputId": "aa6c3799-7b40-4c7b-fef2-9fddafaee717"
      },
      "outputs": [
        {
          "name": "stdout",
          "output_type": "stream",
          "text": [
            "2024-04-28T18:45:52+00:00\n",
            "Running ./challenge2\n",
            "Run on (2 X 2200.22 MHz CPU s)\n",
            "CPU Caches:\n",
            "  L1 Data 32 KiB (x1)\n",
            "  L1 Instruction 32 KiB (x1)\n",
            "  L2 Unified 256 KiB (x1)\n",
            "  L3 Unified 56320 KiB (x1)\n",
            "Load Average: 0.90, 0.62, 0.50\n",
            "-----------------------------------------------------------\n",
            "Benchmark                 Time             CPU   Iterations\n",
            "-----------------------------------------------------------\n",
            "\u001b[0;32mBM_order/4       \u001b[m\u001b[0;33m      55.9 ns         52.9 ns   \u001b[m\u001b[0;36m  13478950\u001b[m\n",
            "\u001b[m\u001b[0;32mBM_order/8       \u001b[m\u001b[0;33m       166 ns          160 ns   \u001b[m\u001b[0;36m   4129230\u001b[m\n",
            "\u001b[m\u001b[0;32mBM_order/16      \u001b[m\u001b[0;33m       221 ns          215 ns   \u001b[m\u001b[0;36m   2717260\u001b[m\n",
            "\u001b[m\u001b[0;32mBM_order/32      \u001b[m\u001b[0;33m       221 ns          221 ns   \u001b[m\u001b[0;36m   3234923\u001b[m\n",
            "\u001b[m\u001b[0;32mBM_order/64      \u001b[m\u001b[0;33m       441 ns          441 ns   \u001b[m\u001b[0;36m   1591433\u001b[m\n",
            "\u001b[m\u001b[0;32mBM_order/128     \u001b[m\u001b[0;33m       914 ns          914 ns   \u001b[m\u001b[0;36m    768486\u001b[m\n",
            "\u001b[m\u001b[0;32mBM_order/256     \u001b[m\u001b[0;33m      2142 ns         2142 ns   \u001b[m\u001b[0;36m    329140\u001b[m\n",
            "\u001b[m\u001b[0;32mBM_order/512     \u001b[m\u001b[0;33m      3978 ns         3978 ns   \u001b[m\u001b[0;36m    178933\u001b[m\n",
            "\u001b[m\u001b[0;32mBM_order/1024    \u001b[m\u001b[0;33m      6845 ns         6844 ns   \u001b[m\u001b[0;36m    103820\u001b[m\n",
            "\u001b[m\u001b[0;32mBM_order/2048    \u001b[m\u001b[0;33m     14205 ns        14203 ns   \u001b[m\u001b[0;36m     45969\u001b[m\n",
            "\u001b[m\u001b[0;32mBM_order/4096    \u001b[m\u001b[0;33m     28156 ns        28132 ns   \u001b[m\u001b[0;36m     24188\u001b[m\n",
            "\u001b[m\u001b[0;32mBM_order/8192    \u001b[m\u001b[0;33m     75428 ns        75366 ns   \u001b[m\u001b[0;36m      9292\u001b[m\n",
            "\u001b[m\u001b[0;32mBM_order/16384   \u001b[m\u001b[0;33m    112786 ns       112697 ns   \u001b[m\u001b[0;36m      5333\u001b[m\n",
            "\u001b[m\u001b[0;32mBM_order/32768   \u001b[m\u001b[0;33m    498765 ns       491771 ns   \u001b[m\u001b[0;36m      2691\u001b[m\n",
            "\u001b[m\u001b[0;32mBM_order/65536   \u001b[m\u001b[0;33m   1057640 ns      1008190 ns   \u001b[m\u001b[0;36m       641\u001b[m\n",
            "\u001b[m\u001b[0;32mBM_order/131072  \u001b[m\u001b[0;33m   1949975 ns      1899318 ns   \u001b[m\u001b[0;36m       345\u001b[m\n",
            "\u001b[m\u001b[0;32mBM_order/262144  \u001b[m\u001b[0;33m   2625573 ns      2616830 ns   \u001b[m\u001b[0;36m       255\u001b[m\n",
            "\u001b[m\u001b[0;32mBM_order/524288  \u001b[m\u001b[0;33m   5773883 ns      5751976 ns   \u001b[m\u001b[0;36m        95\u001b[m\n",
            "\u001b[m\u001b[0;32mBM_order/1048576 \u001b[m\u001b[0;33m  12903778 ns     12865756 ns   \u001b[m\u001b[0;36m        47\u001b[m\n",
            "\u001b[m\u001b[0;34mBM_order_BigO    \u001b[m\u001b[0;33m      0.61 NlgN       0.61 NlgN \u001b[m\n",
            "\u001b[m\u001b[0;34mBM_order_RMS     \u001b[m\u001b[0;33m        15 %            14 %    \u001b[m\n",
            "\u001b[m"
          ]
        }
      ],
      "source": [
        "!./challenge2"
      ]
    },
    {
      "cell_type": "markdown",
      "metadata": {
        "id": "wR_jy4VPJIMU"
      },
      "source": [
        "# Testcases e commenti\n",
        "\n",
        "L'algoritmo è stato testato con vari testcases semplici per verificarne la correttezza, alcuni dei quali sono stati lasciati nel main (commentato, insieme all'interfaccia, per permettere il corretto funzionamento del benchmark). Oltre ad input generali, è stato testato su edge-cases come il vettore nullo, un vettore con un singolo elemento o vettori con numeri negativi.\n",
        "\n",
        "Grazie al metodo delle mediane, l'algoritmo è lineare (i benchmark variano tra una complessità di ~10N e ~0.6NlgN), e nel caso pessimo una sua singola iterazione riduce l'input di almeno 3*ceil(floor(n/5)/2).\n",
        "\n",
        "Un testcase del tipo #input2, cioè {1, 1, 1, 100, 100, 1, 1, 1, 100, 100, 1, 1, 1, 100, 100, 100, 100, 100, 100, 100, 100, 100, 100, 100, 100}, con ordine richiesto sufficientemente alto, per esempio k=20, è il caso pessimo per una singola iterazione.\n",
        "\n",
        "Dai benchmark,"
      ]
    }
  ],
  "metadata": {
    "colab": {
      "provenance": [],
      "toc_visible": true
    },
    "kernelspec": {
      "display_name": "Python 3",
      "name": "python3"
    },
    "language_info": {
      "name": "python"
    }
  },
  "nbformat": 4,
  "nbformat_minor": 0
}
